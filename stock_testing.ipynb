{
 "cells": [
  {
   "cell_type": "code",
   "execution_count": 1,
   "metadata": {},
   "outputs": [],
   "source": [
    "import yfinance as yf\n",
    "import pandas as pd\n",
    "import numpy as np\n",
    "import matplotlib.pyplot as plt\n",
    "# plt.rcParams.update({\n",
    "#     \"text.usetex\": True,\n",
    "#     \"font.family\": \"serif\",\n",
    "#     \"font.sans-serif\": [\"Computer Modern Roman\"]})"
   ]
  },
  {
   "cell_type": "code",
   "execution_count": 2,
   "metadata": {},
   "outputs": [],
   "source": [
    "market_name = 'SPY'\n",
    "stock_name = 'APPL'\n",
    "\n",
    "start_date = '2021-12-20'\n",
    "end_date = '2022-12-20'\n",
    "\n",
    "\n",
    "market = yf.Ticker(market_name)\n",
    "# stock = yf.Ticker(stock_name)\n",
    "\n",
    "\n",
    "# Get history for the market and stock over the same time frame\n",
    "market_hist = market.history(start=start_date, end=end_date)\n",
    "# stock_hist = stock.history(start=start_date, end=end_date)\n",
    "\n",
    "# Pull the closing data from the yfinance DataFrame\n",
    "market_close = market_hist.iloc[:, 3]\n",
    "\n",
    "\n",
    "# Pull the first closing price from the closing prices\n",
    "price_base = market_close[0]\n",
    "\n",
    "# (new - base) / base\n",
    "\n",
    "pct_change = []\n",
    "for i in range(len(market_close) - 1):\n",
    "    pct_change.append( (( market_close[i + 1] - market_close[i] ) / market_close[i] ) * 100 )\n",
    "\n",
    "\n"
   ]
  },
  {
   "cell_type": "code",
   "execution_count": 3,
   "metadata": {},
   "outputs": [
    {
     "name": "stdout",
     "output_type": "stream",
     "text": [
      "range(0, 251)\n"
     ]
    }
   ],
   "source": [
    "print(range(len(market_close) - 1))"
   ]
  },
  {
   "cell_type": "code",
   "execution_count": 3,
   "metadata": {},
   "outputs": [],
   "source": [
    "sp_500 = pd.read_csv('sp_500.csv')"
   ]
  },
  {
   "cell_type": "code",
   "execution_count": 7,
   "metadata": {},
   "outputs": [
    {
     "name": "stdout",
     "output_type": "stream",
     "text": [
      "{'regularMarketPrice': None, 'preMarketPrice': None, 'logo_url': '', 'trailingPegRatio': 2.2172}\n"
     ]
    }
   ],
   "source": [
    "sp_stocks = sp_500.Symbol\n",
    "\n",
    "test = yf.Ticker(sp_stocks[0])\n"
   ]
  }
 ],
 "metadata": {
  "kernelspec": {
   "display_name": "Python 3",
   "language": "python",
   "name": "python3"
  },
  "language_info": {
   "codemirror_mode": {
    "name": "ipython",
    "version": 3
   },
   "file_extension": ".py",
   "mimetype": "text/x-python",
   "name": "python",
   "nbconvert_exporter": "python",
   "pygments_lexer": "ipython3",
   "version": "3.10.6"
  },
  "orig_nbformat": 4,
  "vscode": {
   "interpreter": {
    "hash": "916dbcbb3f70747c44a77c7bcd40155683ae19c65e1c03b4aa3499c5328201f1"
   }
  }
 },
 "nbformat": 4,
 "nbformat_minor": 2
}
